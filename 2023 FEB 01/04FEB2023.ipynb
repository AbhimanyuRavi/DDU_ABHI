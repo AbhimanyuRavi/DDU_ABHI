{
 "cells": [
  {
   "cell_type": "markdown",
   "id": "a2921bdc",
   "metadata": {},
   "source": [
    "### BOOLEAN MASKING"
   ]
  },
  {
   "cell_type": "code",
   "execution_count": 1,
   "id": "3db449b6",
   "metadata": {},
   "outputs": [],
   "source": [
    "import pandas as pd\n",
    "import numpy as np\n",
    "import warnings\n",
    "warnings.filterwarnings('ignore')"
   ]
  },
  {
   "cell_type": "code",
   "execution_count": 2,
   "id": "a32ee0b5",
   "metadata": {},
   "outputs": [],
   "source": [
    "df=pd.read_csv('netflix_titles_2021.csv')"
   ]
  },
  {
   "cell_type": "code",
   "execution_count": 3,
   "id": "f84c8d98",
   "metadata": {},
   "outputs": [
    {
     "data": {
      "text/html": [
       "<div>\n",
       "<style scoped>\n",
       "    .dataframe tbody tr th:only-of-type {\n",
       "        vertical-align: middle;\n",
       "    }\n",
       "\n",
       "    .dataframe tbody tr th {\n",
       "        vertical-align: top;\n",
       "    }\n",
       "\n",
       "    .dataframe thead th {\n",
       "        text-align: right;\n",
       "    }\n",
       "</style>\n",
       "<table border=\"1\" class=\"dataframe\">\n",
       "  <thead>\n",
       "    <tr style=\"text-align: right;\">\n",
       "      <th></th>\n",
       "      <th>show_id</th>\n",
       "      <th>type</th>\n",
       "      <th>title</th>\n",
       "      <th>director</th>\n",
       "      <th>cast</th>\n",
       "      <th>country</th>\n",
       "      <th>date_added</th>\n",
       "      <th>release_year</th>\n",
       "      <th>rating</th>\n",
       "      <th>duration</th>\n",
       "      <th>listed_in</th>\n",
       "      <th>description</th>\n",
       "    </tr>\n",
       "  </thead>\n",
       "  <tbody>\n",
       "    <tr>\n",
       "      <th>0</th>\n",
       "      <td>s1</td>\n",
       "      <td>Movie</td>\n",
       "      <td>Dick Johnson Is Dead</td>\n",
       "      <td>Kirsten Johnson</td>\n",
       "      <td>NaN</td>\n",
       "      <td>United States</td>\n",
       "      <td>September 25, 2021</td>\n",
       "      <td>2020</td>\n",
       "      <td>PG-13</td>\n",
       "      <td>90 min</td>\n",
       "      <td>Documentaries</td>\n",
       "      <td>As her father nears the end of his life, filmm...</td>\n",
       "    </tr>\n",
       "    <tr>\n",
       "      <th>1</th>\n",
       "      <td>s2</td>\n",
       "      <td>TV Show</td>\n",
       "      <td>Blood &amp; Water</td>\n",
       "      <td>NaN</td>\n",
       "      <td>Ama Qamata, Khosi Ngema, Gail Mabalane, Thaban...</td>\n",
       "      <td>South Africa</td>\n",
       "      <td>September 24, 2021</td>\n",
       "      <td>2021</td>\n",
       "      <td>TV-MA</td>\n",
       "      <td>2 Seasons</td>\n",
       "      <td>International TV Shows, TV Dramas, TV Mysteries</td>\n",
       "      <td>After crossing paths at a party, a Cape Town t...</td>\n",
       "    </tr>\n",
       "    <tr>\n",
       "      <th>2</th>\n",
       "      <td>s3</td>\n",
       "      <td>TV Show</td>\n",
       "      <td>Ganglands</td>\n",
       "      <td>Julien Leclercq</td>\n",
       "      <td>Sami Bouajila, Tracy Gotoas, Samuel Jouy, Nabi...</td>\n",
       "      <td>NaN</td>\n",
       "      <td>September 24, 2021</td>\n",
       "      <td>2021</td>\n",
       "      <td>TV-MA</td>\n",
       "      <td>1 Season</td>\n",
       "      <td>Crime TV Shows, International TV Shows, TV Act...</td>\n",
       "      <td>To protect his family from a powerful drug lor...</td>\n",
       "    </tr>\n",
       "    <tr>\n",
       "      <th>3</th>\n",
       "      <td>s4</td>\n",
       "      <td>TV Show</td>\n",
       "      <td>Jailbirds New Orleans</td>\n",
       "      <td>NaN</td>\n",
       "      <td>NaN</td>\n",
       "      <td>NaN</td>\n",
       "      <td>September 24, 2021</td>\n",
       "      <td>2021</td>\n",
       "      <td>TV-MA</td>\n",
       "      <td>1 Season</td>\n",
       "      <td>Docuseries, Reality TV</td>\n",
       "      <td>Feuds, flirtations and toilet talk go down amo...</td>\n",
       "    </tr>\n",
       "    <tr>\n",
       "      <th>4</th>\n",
       "      <td>s5</td>\n",
       "      <td>TV Show</td>\n",
       "      <td>Kota Factory</td>\n",
       "      <td>NaN</td>\n",
       "      <td>Mayur More, Jitendra Kumar, Ranjan Raj, Alam K...</td>\n",
       "      <td>India</td>\n",
       "      <td>September 24, 2021</td>\n",
       "      <td>2021</td>\n",
       "      <td>TV-MA</td>\n",
       "      <td>2 Seasons</td>\n",
       "      <td>International TV Shows, Romantic TV Shows, TV ...</td>\n",
       "      <td>In a city of coaching centers known to train I...</td>\n",
       "    </tr>\n",
       "  </tbody>\n",
       "</table>\n",
       "</div>"
      ],
      "text/plain": [
       "  show_id     type                  title         director  \\\n",
       "0      s1    Movie   Dick Johnson Is Dead  Kirsten Johnson   \n",
       "1      s2  TV Show          Blood & Water              NaN   \n",
       "2      s3  TV Show              Ganglands  Julien Leclercq   \n",
       "3      s4  TV Show  Jailbirds New Orleans              NaN   \n",
       "4      s5  TV Show           Kota Factory              NaN   \n",
       "\n",
       "                                                cast        country  \\\n",
       "0                                                NaN  United States   \n",
       "1  Ama Qamata, Khosi Ngema, Gail Mabalane, Thaban...   South Africa   \n",
       "2  Sami Bouajila, Tracy Gotoas, Samuel Jouy, Nabi...            NaN   \n",
       "3                                                NaN            NaN   \n",
       "4  Mayur More, Jitendra Kumar, Ranjan Raj, Alam K...          India   \n",
       "\n",
       "           date_added  release_year rating   duration  \\\n",
       "0  September 25, 2021          2020  PG-13     90 min   \n",
       "1  September 24, 2021          2021  TV-MA  2 Seasons   \n",
       "2  September 24, 2021          2021  TV-MA   1 Season   \n",
       "3  September 24, 2021          2021  TV-MA   1 Season   \n",
       "4  September 24, 2021          2021  TV-MA  2 Seasons   \n",
       "\n",
       "                                           listed_in  \\\n",
       "0                                      Documentaries   \n",
       "1    International TV Shows, TV Dramas, TV Mysteries   \n",
       "2  Crime TV Shows, International TV Shows, TV Act...   \n",
       "3                             Docuseries, Reality TV   \n",
       "4  International TV Shows, Romantic TV Shows, TV ...   \n",
       "\n",
       "                                         description  \n",
       "0  As her father nears the end of his life, filmm...  \n",
       "1  After crossing paths at a party, a Cape Town t...  \n",
       "2  To protect his family from a powerful drug lor...  \n",
       "3  Feuds, flirtations and toilet talk go down amo...  \n",
       "4  In a city of coaching centers known to train I...  "
      ]
     },
     "execution_count": 3,
     "metadata": {},
     "output_type": "execute_result"
    }
   ],
   "source": [
    "df.head()"
   ]
  },
  {
   "cell_type": "code",
   "execution_count": 4,
   "id": "f96b3764",
   "metadata": {},
   "outputs": [],
   "source": [
    "twopower_sr=pd.Series([1,2,4,8,16,32,64,128,256,512,1024])"
   ]
  },
  {
   "cell_type": "code",
   "execution_count": 5,
   "id": "1d62ef39",
   "metadata": {},
   "outputs": [],
   "source": [
    "BM=[False,False,True,True,False,True,True,False,False,True,False]"
   ]
  },
  {
   "cell_type": "code",
   "execution_count": 6,
   "id": "e9f38aaf",
   "metadata": {},
   "outputs": [
    {
     "data": {
      "text/plain": [
       "2      4\n",
       "3      8\n",
       "5     32\n",
       "6     64\n",
       "9    512\n",
       "dtype: int64"
      ]
     },
     "execution_count": 6,
     "metadata": {},
     "output_type": "execute_result"
    }
   ],
   "source": [
    "twopower_sr[BM]"
   ]
  },
  {
   "cell_type": "code",
   "execution_count": 7,
   "id": "9ffd967e",
   "metadata": {},
   "outputs": [],
   "source": [
    "BM=twopower_sr<=50"
   ]
  },
  {
   "cell_type": "code",
   "execution_count": 8,
   "id": "da141227",
   "metadata": {},
   "outputs": [
    {
     "data": {
      "text/plain": [
       "0     1\n",
       "1     2\n",
       "2     4\n",
       "3     8\n",
       "4    16\n",
       "5    32\n",
       "dtype: int64"
      ]
     },
     "execution_count": 8,
     "metadata": {},
     "output_type": "execute_result"
    }
   ],
   "source": [
    "twopower_sr[BM]"
   ]
  },
  {
   "cell_type": "markdown",
   "id": "4825a979",
   "metadata": {},
   "source": [
    "### COUNT OF MOVIES IN 2020 FOR EACH COUNTRY"
   ]
  },
  {
   "cell_type": "code",
   "execution_count": 9,
   "id": "e4920bcb",
   "metadata": {},
   "outputs": [],
   "source": [
    "BM=df.release_year==2020"
   ]
  },
  {
   "cell_type": "code",
   "execution_count": 10,
   "id": "f223c1de",
   "metadata": {},
   "outputs": [
    {
     "data": {
      "text/plain": [
       "United States                             336\n",
       "India                                      75\n",
       "United Kingdom                             44\n",
       "South Korea                                28\n",
       "Canada                                     26\n",
       "                                         ... \n",
       "Germany, Czech Republic                     1\n",
       "United States, Bulgaria                     1\n",
       "United Kingdom, France, Germany, Spain      1\n",
       "Thailand, United States                     1\n",
       "United States, South Korea, China           1\n",
       "Name: country, Length: 107, dtype: int64"
      ]
     },
     "execution_count": 10,
     "metadata": {},
     "output_type": "execute_result"
    }
   ],
   "source": [
    "df[BM].country.value_counts()"
   ]
  },
  {
   "cell_type": "code",
   "execution_count": 11,
   "id": "8be9fa31",
   "metadata": {},
   "outputs": [
    {
     "data": {
      "text/plain": [
       "array(['PG-13', 'TV-MA', 'PG', 'TV-14', 'TV-PG', 'TV-Y', 'TV-Y7', 'R',\n",
       "       'TV-G', 'G', 'NC-17', '74 min', '84 min', '66 min', 'NR', nan,\n",
       "       'TV-Y7-FV', 'UR'], dtype=object)"
      ]
     },
     "execution_count": 11,
     "metadata": {},
     "output_type": "execute_result"
    }
   ],
   "source": [
    "df.rating.unique()"
   ]
  },
  {
   "cell_type": "markdown",
   "id": "ba8d0afb",
   "metadata": {},
   "source": [
    "### DISPLAY THE COUNT OF RATINGS OF TV SHOW IN EACH YEAR"
   ]
  },
  {
   "cell_type": "markdown",
   "id": "002d8870",
   "metadata": {},
   "source": [
    "#### PG-13"
   ]
  },
  {
   "cell_type": "code",
   "execution_count": 12,
   "id": "0d7cba1d",
   "metadata": {},
   "outputs": [],
   "source": [
    "BM=df.rating=='PG-13'"
   ]
  },
  {
   "cell_type": "code",
   "execution_count": 13,
   "id": "37ef1cf5",
   "metadata": {},
   "outputs": [
    {
     "data": {
      "text/plain": [
       "2016    34\n",
       "2017    32\n",
       "2018    30\n",
       "2010    26\n",
       "2015    25\n",
       "2009    25\n",
       "2008    24\n",
       "2011    23\n",
       "2020    21\n",
       "2014    19\n",
       "2012    19\n",
       "2019    19\n",
       "2005    16\n",
       "2013    15\n",
       "2007    15\n",
       "2006    15\n",
       "2002    14\n",
       "2021    14\n",
       "2000    10\n",
       "2003    10\n",
       "1995    10\n",
       "1997     9\n",
       "2001     8\n",
       "1999     8\n",
       "2004     7\n",
       "1998     7\n",
       "1996     6\n",
       "1994     4\n",
       "1993     4\n",
       "1990     4\n",
       "1988     3\n",
       "1986     2\n",
       "1989     2\n",
       "1987     2\n",
       "1991     2\n",
       "1979     1\n",
       "1992     1\n",
       "1965     1\n",
       "1968     1\n",
       "1955     1\n",
       "1984     1\n",
       "Name: release_year, dtype: int64"
      ]
     },
     "execution_count": 13,
     "metadata": {},
     "output_type": "execute_result"
    }
   ],
   "source": [
    "df[BM].release_year.value_counts()"
   ]
  },
  {
   "cell_type": "markdown",
   "id": "b205ce4a",
   "metadata": {},
   "source": [
    "#### TV-MA"
   ]
  },
  {
   "cell_type": "code",
   "execution_count": 14,
   "id": "fba177ed",
   "metadata": {},
   "outputs": [
    {
     "data": {
      "text/plain": [
       "2018    549\n",
       "2019    500\n",
       "2020    469\n",
       "2017    451\n",
       "2016    341\n",
       "2021    270\n",
       "2015    184\n",
       "2014     79\n",
       "2013     64\n",
       "2012     54\n",
       "2010     42\n",
       "2011     27\n",
       "2008     25\n",
       "2009     18\n",
       "2006     17\n",
       "2007     17\n",
       "2004     10\n",
       "2003      8\n",
       "2005      8\n",
       "1998      7\n",
       "2002      7\n",
       "1999      5\n",
       "1991      5\n",
       "1983      4\n",
       "1993      4\n",
       "1990      3\n",
       "1992      3\n",
       "1997      3\n",
       "1985      3\n",
       "1989      2\n",
       "1978      2\n",
       "1975      2\n",
       "1945      2\n",
       "1979      2\n",
       "2001      2\n",
       "1972      2\n",
       "1982      2\n",
       "1984      1\n",
       "1973      1\n",
       "1986      1\n",
       "1981      1\n",
       "1988      1\n",
       "1970      1\n",
       "1994      1\n",
       "1977      1\n",
       "2000      1\n",
       "1987      1\n",
       "1995      1\n",
       "1963      1\n",
       "1976      1\n",
       "1967      1\n",
       "Name: release_year, dtype: int64"
      ]
     },
     "execution_count": 14,
     "metadata": {},
     "output_type": "execute_result"
    }
   ],
   "source": [
    "BM=df.rating=='TV-MA'\n",
    "df[BM].release_year.value_counts()"
   ]
  },
  {
   "cell_type": "markdown",
   "id": "88555c4d",
   "metadata": {},
   "source": [
    "#### TV-14"
   ]
  },
  {
   "cell_type": "code",
   "execution_count": 15,
   "id": "3b7a6623",
   "metadata": {},
   "outputs": [
    {
     "data": {
      "text/plain": [
       "2018    268\n",
       "2019    252\n",
       "2017    251\n",
       "2016    218\n",
       "2020    174\n",
       "       ... \n",
       "1959      1\n",
       "1925      1\n",
       "1987      1\n",
       "1958      1\n",
       "1963      1\n",
       "Name: release_year, Length: 66, dtype: int64"
      ]
     },
     "execution_count": 15,
     "metadata": {},
     "output_type": "execute_result"
    }
   ],
   "source": [
    "BM=df.rating=='TV-14'\n",
    "df[BM].release_year.value_counts()\n"
   ]
  },
  {
   "cell_type": "markdown",
   "id": "4999f5ac",
   "metadata": {},
   "source": [
    "#### R"
   ]
  },
  {
   "cell_type": "code",
   "execution_count": 16,
   "id": "70ae4de3",
   "metadata": {},
   "outputs": [
    {
     "data": {
      "text/plain": [
       "2016    86\n",
       "2017    73\n",
       "2015    67\n",
       "2018    52\n",
       "2014    49\n",
       "2020    48\n",
       "2013    41\n",
       "2019    39\n",
       "2012    29\n",
       "2010    26\n",
       "2009    25\n",
       "2021    21\n",
       "2011    20\n",
       "2008    19\n",
       "2003    16\n",
       "1997    16\n",
       "2001    14\n",
       "2007    14\n",
       "2002    12\n",
       "2006    12\n",
       "1992    11\n",
       "1999    10\n",
       "2005    10\n",
       "1996     9\n",
       "1998     9\n",
       "2000     8\n",
       "2004     7\n",
       "1993     6\n",
       "1988     5\n",
       "1980     5\n",
       "1990     4\n",
       "1995     4\n",
       "1994     4\n",
       "1973     3\n",
       "1982     3\n",
       "1986     2\n",
       "1967     2\n",
       "1979     2\n",
       "1974     2\n",
       "1987     2\n",
       "1981     2\n",
       "1991     2\n",
       "1971     1\n",
       "1976     1\n",
       "1989     1\n",
       "1962     1\n",
       "1968     1\n",
       "1972     1\n",
       "1978     1\n",
       "1984     1\n",
       "Name: release_year, dtype: int64"
      ]
     },
     "execution_count": 16,
     "metadata": {},
     "output_type": "execute_result"
    }
   ],
   "source": [
    "BM=df.rating=='R'\n",
    "df[BM].release_year.value_counts()\n"
   ]
  },
  {
   "cell_type": "markdown",
   "id": "956e6f2a",
   "metadata": {},
   "source": [
    "### NO.OF COUNTRIES WHICH RELEASED SHOWS ON AUGUST 27 2021"
   ]
  },
  {
   "cell_type": "code",
   "execution_count": 17,
   "id": "1f23a47a",
   "metadata": {},
   "outputs": [
    {
     "data": {
      "text/plain": [
       "India            18\n",
       ", South Korea     1\n",
       "Nigeria           1\n",
       "Ireland           1\n",
       "Name: country, dtype: int64"
      ]
     },
     "execution_count": 17,
     "metadata": {},
     "output_type": "execute_result"
    }
   ],
   "source": [
    "BM=df.date_added=='August 27, 2021'\n",
    "df[BM].country.value_counts()"
   ]
  },
  {
   "cell_type": "markdown",
   "id": "8b341976",
   "metadata": {},
   "source": [
    "### NO OF MOVIES LISTED IN DOCUMENTARIES"
   ]
  },
  {
   "cell_type": "code",
   "execution_count": 18,
   "id": "3778fce2",
   "metadata": {},
   "outputs": [
    {
     "data": {
      "text/plain": [
       "Movie    359\n",
       "Name: type, dtype: int64"
      ]
     },
     "execution_count": 18,
     "metadata": {},
     "output_type": "execute_result"
    }
   ],
   "source": [
    "BM=df.listed_in=='Documentaries'\n",
    "df[BM].type.value_counts()"
   ]
  },
  {
   "cell_type": "markdown",
   "id": "bc2a9a95",
   "metadata": {},
   "source": [
    "### NO OF INDIAN MOVIES IN THE YEAR 2021"
   ]
  },
  {
   "cell_type": "code",
   "execution_count": 19,
   "id": "83d416e8",
   "metadata": {},
   "outputs": [
    {
     "data": {
      "text/plain": [
       "United States                     138\n",
       "India                              31\n",
       "United Kingdom                     22\n",
       "South Korea                        19\n",
       "Spain                              14\n",
       "                                 ... \n",
       "Norway, Denmark                     1\n",
       "Israel, United States               1\n",
       "United States, Czech Republic       1\n",
       "Mauritius                           1\n",
       "Canada, United States, Ireland      1\n",
       "Name: country, Length: 75, dtype: int64"
      ]
     },
     "execution_count": 19,
     "metadata": {},
     "output_type": "execute_result"
    }
   ],
   "source": [
    "BM=df.release_year==2021\n",
    "df[BM].country.value_counts()"
   ]
  },
  {
   "cell_type": "code",
   "execution_count": 20,
   "id": "4e852ff8",
   "metadata": {},
   "outputs": [],
   "source": [
    "a=df[\"country\"]==\"India\""
   ]
  },
  {
   "cell_type": "code",
   "execution_count": 22,
   "id": "d6317f9e",
   "metadata": {},
   "outputs": [
    {
     "data": {
      "text/plain": [
       "0    False\n",
       "1    False\n",
       "2    False\n",
       "3    False\n",
       "4     True\n",
       "Name: country, dtype: bool"
      ]
     },
     "execution_count": 22,
     "metadata": {},
     "output_type": "execute_result"
    }
   ],
   "source": [
    "a.head()"
   ]
  },
  {
   "cell_type": "code",
   "execution_count": 23,
   "id": "ddcf5af3",
   "metadata": {},
   "outputs": [
    {
     "data": {
      "text/plain": [
       "False    561\n",
       "True      31\n",
       "Name: country, dtype: int64"
      ]
     },
     "execution_count": 23,
     "metadata": {},
     "output_type": "execute_result"
    }
   ],
   "source": [
    "BM=df.release_year==2021\n",
    "a[BM].value_counts()"
   ]
  },
  {
   "cell_type": "code",
   "execution_count": null,
   "id": "ee5cbcf1",
   "metadata": {},
   "outputs": [],
   "source": []
  }
 ],
 "metadata": {
  "kernelspec": {
   "display_name": "Python 3 (ipykernel)",
   "language": "python",
   "name": "python3"
  },
  "language_info": {
   "codemirror_mode": {
    "name": "ipython",
    "version": 3
   },
   "file_extension": ".py",
   "mimetype": "text/x-python",
   "name": "python",
   "nbconvert_exporter": "python",
   "pygments_lexer": "ipython3",
   "version": "3.9.13"
  }
 },
 "nbformat": 4,
 "nbformat_minor": 5
}
