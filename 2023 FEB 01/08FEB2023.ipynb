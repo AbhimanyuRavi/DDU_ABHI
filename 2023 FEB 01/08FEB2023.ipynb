{
 "cells": [
  {
   "cell_type": "markdown",
   "id": "11c9a72c",
   "metadata": {},
   "source": [
    "### NUMPY"
   ]
  },
  {
   "cell_type": "code",
   "execution_count": 1,
   "id": "ccc432f7",
   "metadata": {},
   "outputs": [],
   "source": [
    "import numpy as np"
   ]
  },
  {
   "cell_type": "markdown",
   "id": "58524169",
   "metadata": {},
   "source": [
    "### 1D"
   ]
  },
  {
   "cell_type": "code",
   "execution_count": 2,
   "id": "d71d77c6",
   "metadata": {},
   "outputs": [],
   "source": [
    "a=np.array([10,20,30,50,5,60])"
   ]
  },
  {
   "cell_type": "markdown",
   "id": "d87caee6",
   "metadata": {},
   "source": [
    "#### Attributes of arrays"
   ]
  },
  {
   "cell_type": "markdown",
   "id": "69283844",
   "metadata": {},
   "source": [
    "#### ndim"
   ]
  },
  {
   "cell_type": "markdown",
   "id": "5ce46721",
   "metadata": {},
   "source": [
    "#### Dtype"
   ]
  },
  {
   "cell_type": "markdown",
   "id": "32b5b869",
   "metadata": {},
   "source": [
    "#### shape"
   ]
  },
  {
   "cell_type": "markdown",
   "id": "d2dd2e3b",
   "metadata": {},
   "source": [
    "#### size"
   ]
  },
  {
   "cell_type": "code",
   "execution_count": 3,
   "id": "f3f3e6c2",
   "metadata": {},
   "outputs": [
    {
     "data": {
      "text/plain": [
       "dtype('int32')"
      ]
     },
     "execution_count": 3,
     "metadata": {},
     "output_type": "execute_result"
    }
   ],
   "source": [
    "a.dtype"
   ]
  },
  {
   "cell_type": "code",
   "execution_count": 4,
   "id": "51d25030",
   "metadata": {},
   "outputs": [
    {
     "data": {
      "text/plain": [
       "(6,)"
      ]
     },
     "execution_count": 4,
     "metadata": {},
     "output_type": "execute_result"
    }
   ],
   "source": [
    "a.shape"
   ]
  },
  {
   "cell_type": "code",
   "execution_count": 5,
   "id": "7bb2f728",
   "metadata": {},
   "outputs": [
    {
     "data": {
      "text/plain": [
       "1"
      ]
     },
     "execution_count": 5,
     "metadata": {},
     "output_type": "execute_result"
    }
   ],
   "source": [
    "a.ndim"
   ]
  },
  {
   "cell_type": "code",
   "execution_count": 6,
   "id": "03912902",
   "metadata": {},
   "outputs": [
    {
     "data": {
      "text/plain": [
       "6"
      ]
     },
     "execution_count": 6,
     "metadata": {},
     "output_type": "execute_result"
    }
   ],
   "source": [
    "a.size"
   ]
  },
  {
   "cell_type": "code",
   "execution_count": 7,
   "id": "05fb233f",
   "metadata": {},
   "outputs": [
    {
     "data": {
      "text/plain": [
       "10"
      ]
     },
     "execution_count": 7,
     "metadata": {},
     "output_type": "execute_result"
    }
   ],
   "source": [
    "a[0]"
   ]
  },
  {
   "cell_type": "code",
   "execution_count": 8,
   "id": "ea4e76bc",
   "metadata": {},
   "outputs": [
    {
     "data": {
      "text/plain": [
       "20"
      ]
     },
     "execution_count": 8,
     "metadata": {},
     "output_type": "execute_result"
    }
   ],
   "source": [
    "a[1]"
   ]
  },
  {
   "cell_type": "markdown",
   "id": "44619870",
   "metadata": {},
   "source": [
    "### MULTIDIMENSIONAL ARRAY"
   ]
  },
  {
   "cell_type": "code",
   "execution_count": 9,
   "id": "3e6e1bcf",
   "metadata": {},
   "outputs": [],
   "source": [
    "a_4d=np.array([[[[1,2,3],[2,5,6],[2,3,0],[7,9,9],[2,9,0],[3,5,9]]]])"
   ]
  },
  {
   "cell_type": "code",
   "execution_count": 10,
   "id": "87797f2b",
   "metadata": {},
   "outputs": [
    {
     "data": {
      "text/plain": [
       "6"
      ]
     },
     "execution_count": 10,
     "metadata": {},
     "output_type": "execute_result"
    }
   ],
   "source": [
    "a.size"
   ]
  },
  {
   "cell_type": "code",
   "execution_count": 11,
   "id": "17c6b729",
   "metadata": {},
   "outputs": [
    {
     "data": {
      "text/plain": [
       "array([10, 20, 30, 50,  5, 60])"
      ]
     },
     "execution_count": 11,
     "metadata": {},
     "output_type": "execute_result"
    }
   ],
   "source": [
    "a"
   ]
  },
  {
   "cell_type": "code",
   "execution_count": 12,
   "id": "f20a0236",
   "metadata": {},
   "outputs": [
    {
     "data": {
      "text/plain": [
       "array([[[[1, 2, 3],\n",
       "         [2, 5, 6],\n",
       "         [2, 3, 0],\n",
       "         [7, 9, 9],\n",
       "         [2, 9, 0],\n",
       "         [3, 5, 9]]]])"
      ]
     },
     "execution_count": 12,
     "metadata": {},
     "output_type": "execute_result"
    }
   ],
   "source": [
    "a_4d"
   ]
  },
  {
   "cell_type": "code",
   "execution_count": 13,
   "id": "a81131a0",
   "metadata": {},
   "outputs": [
    {
     "data": {
      "text/plain": [
       "(1, 1, 6, 3)"
      ]
     },
     "execution_count": 13,
     "metadata": {},
     "output_type": "execute_result"
    }
   ],
   "source": [
    "a_4d.shape"
   ]
  },
  {
   "cell_type": "code",
   "execution_count": 14,
   "id": "2cfad984",
   "metadata": {},
   "outputs": [
    {
     "data": {
      "text/plain": [
       "18"
      ]
     },
     "execution_count": 14,
     "metadata": {},
     "output_type": "execute_result"
    }
   ],
   "source": [
    "a_4d.size"
   ]
  },
  {
   "cell_type": "code",
   "execution_count": 15,
   "id": "59321e6c",
   "metadata": {},
   "outputs": [
    {
     "data": {
      "text/plain": [
       "4"
      ]
     },
     "execution_count": 15,
     "metadata": {},
     "output_type": "execute_result"
    }
   ],
   "source": [
    "a_4d.ndim"
   ]
  },
  {
   "cell_type": "code",
   "execution_count": 17,
   "id": "0ad45d59",
   "metadata": {},
   "outputs": [
    {
     "ename": "IndexError",
     "evalue": "index 1 is out of bounds for axis 0 with size 1",
     "output_type": "error",
     "traceback": [
      "\u001b[1;31m---------------------------------------------------------------------------\u001b[0m",
      "\u001b[1;31mIndexError\u001b[0m                                Traceback (most recent call last)",
      "\u001b[1;32m~\\AppData\\Local\\Temp\\ipykernel_5712\\3563108551.py\u001b[0m in \u001b[0;36m<module>\u001b[1;34m\u001b[0m\n\u001b[1;32m----> 1\u001b[1;33m \u001b[0ma_4d\u001b[0m\u001b[1;33m[\u001b[0m\u001b[1;36m1\u001b[0m\u001b[1;33m]\u001b[0m\u001b[1;33m[\u001b[0m\u001b[1;36m1\u001b[0m\u001b[1;33m]\u001b[0m\u001b[1;33m\u001b[0m\u001b[1;33m\u001b[0m\u001b[0m\n\u001b[0m",
      "\u001b[1;31mIndexError\u001b[0m: index 1 is out of bounds for axis 0 with size 1"
     ]
    }
   ],
   "source": [
    "a_4d[1][1]"
   ]
  },
  {
   "cell_type": "code",
   "execution_count": 20,
   "id": "67c9986c",
   "metadata": {},
   "outputs": [],
   "source": [
    "a_2d=np.array([[1,2,3,4,],[9,8,6,5],[7,3,2,3]])"
   ]
  },
  {
   "cell_type": "code",
   "execution_count": 21,
   "id": "aacd41f1",
   "metadata": {},
   "outputs": [
    {
     "data": {
      "text/plain": [
       "6"
      ]
     },
     "execution_count": 21,
     "metadata": {},
     "output_type": "execute_result"
    }
   ],
   "source": [
    "a_2d[1][2]"
   ]
  },
  {
   "cell_type": "code",
   "execution_count": 22,
   "id": "589ac68e",
   "metadata": {},
   "outputs": [
    {
     "data": {
      "text/plain": [
       "3"
      ]
     },
     "execution_count": 22,
     "metadata": {},
     "output_type": "execute_result"
    }
   ],
   "source": [
    "a_2d[2][1]"
   ]
  },
  {
   "cell_type": "code",
   "execution_count": 23,
   "id": "aac9bd5b",
   "metadata": {},
   "outputs": [],
   "source": [
    "a_1d=np.array([[1,2,3,4,],[9,8,6,5],[7,3,2,3]],dtype=float)"
   ]
  },
  {
   "cell_type": "code",
   "execution_count": 24,
   "id": "8af0b5c4",
   "metadata": {},
   "outputs": [
    {
     "data": {
      "text/plain": [
       "array([[1., 2., 3., 4.],\n",
       "       [9., 8., 6., 5.],\n",
       "       [7., 3., 2., 3.]])"
      ]
     },
     "execution_count": 24,
     "metadata": {},
     "output_type": "execute_result"
    }
   ],
   "source": [
    "a_1d"
   ]
  },
  {
   "cell_type": "code",
   "execution_count": 25,
   "id": "ae9a7fb0",
   "metadata": {},
   "outputs": [
    {
     "data": {
      "text/plain": [
       "(3, 4)"
      ]
     },
     "execution_count": 25,
     "metadata": {},
     "output_type": "execute_result"
    }
   ],
   "source": [
    "a_1d.shape"
   ]
  },
  {
   "cell_type": "code",
   "execution_count": 26,
   "id": "93613c51",
   "metadata": {},
   "outputs": [
    {
     "data": {
      "text/plain": [
       "2"
      ]
     },
     "execution_count": 26,
     "metadata": {},
     "output_type": "execute_result"
    }
   ],
   "source": [
    "a_1d.ndim"
   ]
  },
  {
   "cell_type": "code",
   "execution_count": 27,
   "id": "4d1803e2",
   "metadata": {},
   "outputs": [
    {
     "data": {
      "text/plain": [
       "12"
      ]
     },
     "execution_count": 27,
     "metadata": {},
     "output_type": "execute_result"
    }
   ],
   "source": [
    "a_1d.size"
   ]
  },
  {
   "cell_type": "code",
   "execution_count": 36,
   "id": "423b1045",
   "metadata": {},
   "outputs": [],
   "source": [
    "a_3d=np.array([\n",
    "    [\n",
    "        [2,3,4],[3,4,5],[2,8,9]\n",
    "    ],[\n",
    "        [4,3,1],[3,7,8],[2,9,5]\n",
    "    ],[\n",
    "        [3,4,4],[3,1,9],[1,0,4]\n",
    "    ]\n",
    "],dtype=float)"
   ]
  },
  {
   "cell_type": "code",
   "execution_count": 37,
   "id": "d0da1d89",
   "metadata": {},
   "outputs": [
    {
     "data": {
      "text/plain": [
       "27"
      ]
     },
     "execution_count": 37,
     "metadata": {},
     "output_type": "execute_result"
    }
   ],
   "source": [
    "a_3d.size"
   ]
  },
  {
   "cell_type": "code",
   "execution_count": 38,
   "id": "eae9b845",
   "metadata": {},
   "outputs": [
    {
     "data": {
      "text/plain": [
       "(3, 3, 3)"
      ]
     },
     "execution_count": 38,
     "metadata": {},
     "output_type": "execute_result"
    }
   ],
   "source": [
    "a_3d.shape"
   ]
  },
  {
   "cell_type": "code",
   "execution_count": 39,
   "id": "a4de6071",
   "metadata": {},
   "outputs": [
    {
     "data": {
      "text/plain": [
       "3"
      ]
     },
     "execution_count": 39,
     "metadata": {},
     "output_type": "execute_result"
    }
   ],
   "source": [
    "a_3d.ndim"
   ]
  },
  {
   "cell_type": "code",
   "execution_count": 40,
   "id": "46694f26",
   "metadata": {},
   "outputs": [
    {
     "data": {
      "text/plain": [
       "8.0"
      ]
     },
     "execution_count": 40,
     "metadata": {},
     "output_type": "execute_result"
    }
   ],
   "source": [
    "a_3d[1][1][2]"
   ]
  },
  {
   "cell_type": "code",
   "execution_count": 41,
   "id": "d0f5f6a5",
   "metadata": {},
   "outputs": [
    {
     "data": {
      "text/plain": [
       "array([[[2., 3., 4.],\n",
       "        [3., 4., 5.],\n",
       "        [2., 8., 9.]],\n",
       "\n",
       "       [[4., 3., 1.],\n",
       "        [3., 7., 8.],\n",
       "        [2., 9., 5.]],\n",
       "\n",
       "       [[3., 4., 4.],\n",
       "        [3., 1., 9.],\n",
       "        [1., 0., 4.]]])"
      ]
     },
     "execution_count": 41,
     "metadata": {},
     "output_type": "execute_result"
    }
   ],
   "source": [
    "a_3d"
   ]
  },
  {
   "cell_type": "code",
   "execution_count": 42,
   "id": "fffc9d5e",
   "metadata": {},
   "outputs": [
    {
     "data": {
      "text/plain": [
       "array([4., 3., 1.])"
      ]
     },
     "execution_count": 42,
     "metadata": {},
     "output_type": "execute_result"
    }
   ],
   "source": [
    "a_3d[1][0]"
   ]
  },
  {
   "cell_type": "markdown",
   "id": "609ce1d3",
   "metadata": {},
   "source": [
    "### NP FULL"
   ]
  },
  {
   "cell_type": "code",
   "execution_count": 45,
   "id": "d14f50e5",
   "metadata": {},
   "outputs": [],
   "source": [
    "a_full=np.full((3,5,2),7)"
   ]
  },
  {
   "cell_type": "code",
   "execution_count": 46,
   "id": "1c1d1c8b",
   "metadata": {},
   "outputs": [
    {
     "data": {
      "text/plain": [
       "array([[[7, 7],\n",
       "        [7, 7],\n",
       "        [7, 7],\n",
       "        [7, 7],\n",
       "        [7, 7]],\n",
       "\n",
       "       [[7, 7],\n",
       "        [7, 7],\n",
       "        [7, 7],\n",
       "        [7, 7],\n",
       "        [7, 7]],\n",
       "\n",
       "       [[7, 7],\n",
       "        [7, 7],\n",
       "        [7, 7],\n",
       "        [7, 7],\n",
       "        [7, 7]]])"
      ]
     },
     "execution_count": 46,
     "metadata": {},
     "output_type": "execute_result"
    }
   ],
   "source": [
    "a_full"
   ]
  },
  {
   "cell_type": "markdown",
   "id": "f845337a",
   "metadata": {},
   "source": [
    "### ZEROES AND ONES"
   ]
  },
  {
   "cell_type": "code",
   "execution_count": 52,
   "id": "f916020f",
   "metadata": {},
   "outputs": [],
   "source": [
    "a_zeroes=np.zeros((2,3,4))"
   ]
  },
  {
   "cell_type": "code",
   "execution_count": 53,
   "id": "bfb888b9",
   "metadata": {},
   "outputs": [
    {
     "data": {
      "text/plain": [
       "array([[[0., 0., 0., 0.],\n",
       "        [0., 0., 0., 0.],\n",
       "        [0., 0., 0., 0.]],\n",
       "\n",
       "       [[0., 0., 0., 0.],\n",
       "        [0., 0., 0., 0.],\n",
       "        [0., 0., 0., 0.]]])"
      ]
     },
     "execution_count": 53,
     "metadata": {},
     "output_type": "execute_result"
    }
   ],
   "source": [
    "a_zeroes"
   ]
  },
  {
   "cell_type": "code",
   "execution_count": 54,
   "id": "a899c2eb",
   "metadata": {},
   "outputs": [
    {
     "data": {
      "text/plain": [
       "3"
      ]
     },
     "execution_count": 54,
     "metadata": {},
     "output_type": "execute_result"
    }
   ],
   "source": [
    "a_zeroes.ndim"
   ]
  },
  {
   "cell_type": "markdown",
   "id": "f7ea3bad",
   "metadata": {},
   "source": [
    "### EMPTY AND RANDOM"
   ]
  },
  {
   "cell_type": "code",
   "execution_count": 55,
   "id": "b50c8978",
   "metadata": {},
   "outputs": [],
   "source": [
    "E=np.empty((3,3))"
   ]
  },
  {
   "cell_type": "code",
   "execution_count": 56,
   "id": "35636d90",
   "metadata": {},
   "outputs": [
    {
     "data": {
      "text/plain": [
       "array([[6.23042070e-307, 4.67296746e-307, 1.69121096e-306],\n",
       "       [2.33646845e-307, 1.42413555e-306, 1.78019082e-306],\n",
       "       [1.37959740e-306, 2.29178686e-312, 2.11392372e-307]])"
      ]
     },
     "execution_count": 56,
     "metadata": {},
     "output_type": "execute_result"
    }
   ],
   "source": [
    "E"
   ]
  },
  {
   "cell_type": "code",
   "execution_count": 57,
   "id": "c11433cb",
   "metadata": {},
   "outputs": [
    {
     "data": {
      "text/plain": [
       "2"
      ]
     },
     "execution_count": 57,
     "metadata": {},
     "output_type": "execute_result"
    }
   ],
   "source": [
    "E.ndim"
   ]
  },
  {
   "cell_type": "code",
   "execution_count": 58,
   "id": "8857d00e",
   "metadata": {},
   "outputs": [
    {
     "data": {
      "text/plain": [
       "9"
      ]
     },
     "execution_count": 58,
     "metadata": {},
     "output_type": "execute_result"
    }
   ],
   "source": [
    "E.size"
   ]
  },
  {
   "cell_type": "code",
   "execution_count": 59,
   "id": "b9fa5455",
   "metadata": {},
   "outputs": [
    {
     "data": {
      "text/plain": [
       "(3, 3)"
      ]
     },
     "execution_count": 59,
     "metadata": {},
     "output_type": "execute_result"
    }
   ],
   "source": [
    "E.shape"
   ]
  },
  {
   "cell_type": "markdown",
   "id": "f60d7a2b",
   "metadata": {},
   "source": [
    "### RANDOM"
   ]
  },
  {
   "cell_type": "code",
   "execution_count": 61,
   "id": "44c43db0",
   "metadata": {},
   "outputs": [],
   "source": [
    "B=np.random.random((2,3))"
   ]
  },
  {
   "cell_type": "code",
   "execution_count": 62,
   "id": "dda4f89e",
   "metadata": {},
   "outputs": [
    {
     "data": {
      "text/plain": [
       "array([[0.93271411, 0.41016674, 0.14261714],\n",
       "       [0.77213512, 0.97394759, 0.97153564]])"
      ]
     },
     "execution_count": 62,
     "metadata": {},
     "output_type": "execute_result"
    }
   ],
   "source": [
    "B"
   ]
  },
  {
   "cell_type": "code",
   "execution_count": 64,
   "id": "ee8e80f4",
   "metadata": {},
   "outputs": [
    {
     "data": {
      "text/plain": [
       "6"
      ]
     },
     "execution_count": 64,
     "metadata": {},
     "output_type": "execute_result"
    }
   ],
   "source": [
    "B.size"
   ]
  },
  {
   "cell_type": "code",
   "execution_count": 65,
   "id": "530e467b",
   "metadata": {},
   "outputs": [
    {
     "data": {
      "text/plain": [
       "(2, 3)"
      ]
     },
     "execution_count": 65,
     "metadata": {},
     "output_type": "execute_result"
    }
   ],
   "source": [
    "B.shape"
   ]
  },
  {
   "cell_type": "code",
   "execution_count": 66,
   "id": "0474469d",
   "metadata": {},
   "outputs": [
    {
     "data": {
      "text/plain": [
       "2"
      ]
     },
     "execution_count": 66,
     "metadata": {},
     "output_type": "execute_result"
    }
   ],
   "source": [
    "B.ndim"
   ]
  },
  {
   "cell_type": "markdown",
   "id": "457789b7",
   "metadata": {},
   "source": []
  }
 ],
 "metadata": {
  "kernelspec": {
   "display_name": "Python 3 (ipykernel)",
   "language": "python",
   "name": "python3"
  },
  "language_info": {
   "codemirror_mode": {
    "name": "ipython",
    "version": 3
   },
   "file_extension": ".py",
   "mimetype": "text/x-python",
   "name": "python",
   "nbconvert_exporter": "python",
   "pygments_lexer": "ipython3",
   "version": "3.9.13"
  }
 },
 "nbformat": 4,
 "nbformat_minor": 5
}
