{
 "cells": [
  {
   "cell_type": "markdown",
   "id": "fe0d2efb",
   "metadata": {},
   "source": [
    "### DATA FRAME LIST AND LIST OF DICTIONARIES"
   ]
  },
  {
   "cell_type": "code",
   "execution_count": 1,
   "id": "ba8a81f5",
   "metadata": {},
   "outputs": [],
   "source": [
    "import pandas as pd\n",
    "import numpy as np\n",
    "import warnings\n",
    "warnings.filterwarnings('ignore')"
   ]
  },
  {
   "cell_type": "code",
   "execution_count": 2,
   "id": "1a3cc2a1",
   "metadata": {},
   "outputs": [],
   "source": [
    "name=['arju','pooja','saleem','sneha']\n",
    "age=[24,56,24,13,27]"
   ]
  },
  {
   "cell_type": "code",
   "execution_count": 3,
   "id": "a4f2741a",
   "metadata": {},
   "outputs": [
    {
     "data": {
      "text/html": [
       "<div>\n",
       "<style scoped>\n",
       "    .dataframe tbody tr th:only-of-type {\n",
       "        vertical-align: middle;\n",
       "    }\n",
       "\n",
       "    .dataframe tbody tr th {\n",
       "        vertical-align: top;\n",
       "    }\n",
       "\n",
       "    .dataframe thead th {\n",
       "        text-align: right;\n",
       "    }\n",
       "</style>\n",
       "<table border=\"1\" class=\"dataframe\">\n",
       "  <thead>\n",
       "    <tr style=\"text-align: right;\">\n",
       "      <th></th>\n",
       "      <th>0</th>\n",
       "      <th>1</th>\n",
       "    </tr>\n",
       "  </thead>\n",
       "  <tbody>\n",
       "    <tr>\n",
       "      <th>0</th>\n",
       "      <td>arju</td>\n",
       "      <td>24</td>\n",
       "    </tr>\n",
       "    <tr>\n",
       "      <th>1</th>\n",
       "      <td>pooja</td>\n",
       "      <td>56</td>\n",
       "    </tr>\n",
       "    <tr>\n",
       "      <th>2</th>\n",
       "      <td>saleem</td>\n",
       "      <td>24</td>\n",
       "    </tr>\n",
       "    <tr>\n",
       "      <th>3</th>\n",
       "      <td>sneha</td>\n",
       "      <td>13</td>\n",
       "    </tr>\n",
       "  </tbody>\n",
       "</table>\n",
       "</div>"
      ],
      "text/plain": [
       "        0   1\n",
       "0    arju  24\n",
       "1   pooja  56\n",
       "2  saleem  24\n",
       "3   sneha  13"
      ]
     },
     "execution_count": 3,
     "metadata": {},
     "output_type": "execute_result"
    }
   ],
   "source": [
    "df=pd.DataFrame(list(zip(name,age)))\n",
    "df"
   ]
  },
  {
   "cell_type": "markdown",
   "id": "87ee0213",
   "metadata": {},
   "source": [
    "### ADDING COLUMN NAME"
   ]
  },
  {
   "cell_type": "code",
   "execution_count": 4,
   "id": "80542644",
   "metadata": {},
   "outputs": [],
   "source": [
    "df=pd.DataFrame(list(zip(name,age)),columns=['Name','Age'])"
   ]
  },
  {
   "cell_type": "code",
   "execution_count": 5,
   "id": "80d21f15",
   "metadata": {},
   "outputs": [
    {
     "data": {
      "text/html": [
       "<div>\n",
       "<style scoped>\n",
       "    .dataframe tbody tr th:only-of-type {\n",
       "        vertical-align: middle;\n",
       "    }\n",
       "\n",
       "    .dataframe tbody tr th {\n",
       "        vertical-align: top;\n",
       "    }\n",
       "\n",
       "    .dataframe thead th {\n",
       "        text-align: right;\n",
       "    }\n",
       "</style>\n",
       "<table border=\"1\" class=\"dataframe\">\n",
       "  <thead>\n",
       "    <tr style=\"text-align: right;\">\n",
       "      <th></th>\n",
       "      <th>Name</th>\n",
       "      <th>Age</th>\n",
       "    </tr>\n",
       "  </thead>\n",
       "  <tbody>\n",
       "    <tr>\n",
       "      <th>0</th>\n",
       "      <td>arju</td>\n",
       "      <td>24</td>\n",
       "    </tr>\n",
       "    <tr>\n",
       "      <th>1</th>\n",
       "      <td>pooja</td>\n",
       "      <td>56</td>\n",
       "    </tr>\n",
       "    <tr>\n",
       "      <th>2</th>\n",
       "      <td>saleem</td>\n",
       "      <td>24</td>\n",
       "    </tr>\n",
       "    <tr>\n",
       "      <th>3</th>\n",
       "      <td>sneha</td>\n",
       "      <td>13</td>\n",
       "    </tr>\n",
       "  </tbody>\n",
       "</table>\n",
       "</div>"
      ],
      "text/plain": [
       "     Name  Age\n",
       "0    arju   24\n",
       "1   pooja   56\n",
       "2  saleem   24\n",
       "3   sneha   13"
      ]
     },
     "execution_count": 5,
     "metadata": {},
     "output_type": "execute_result"
    }
   ],
   "source": [
    "df"
   ]
  },
  {
   "cell_type": "markdown",
   "id": "a088b0e8",
   "metadata": {},
   "source": [
    "### LIST OF DICTIONARY METHOD"
   ]
  },
  {
   "cell_type": "code",
   "execution_count": 6,
   "id": "6a03ff12",
   "metadata": {},
   "outputs": [],
   "source": [
    "list_of_dict=[\n",
    "    \n",
    "        {'Name':'arju','Age':24},\n",
    "       {'Name':'pooja','Age':27},\n",
    "       {'Name':'saleem','Age':25},\n",
    "       {'Name':'sneha','Age':25},\n",
    "       {'Name':'rajeev','Age':23}\n",
    "        \n",
    "]"
   ]
  },
  {
   "cell_type": "code",
   "execution_count": 7,
   "id": "6da2bf26",
   "metadata": {},
   "outputs": [
    {
     "data": {
      "text/plain": [
       "[{'Name': 'arju', 'Age': 24},\n",
       " {'Name': 'pooja', 'Age': 27},\n",
       " {'Name': 'saleem', 'Age': 25},\n",
       " {'Name': 'sneha', 'Age': 25},\n",
       " {'Name': 'rajeev', 'Age': 23}]"
      ]
     },
     "execution_count": 7,
     "metadata": {},
     "output_type": "execute_result"
    }
   ],
   "source": [
    "list_of_dict"
   ]
  },
  {
   "cell_type": "code",
   "execution_count": 8,
   "id": "01737d76",
   "metadata": {},
   "outputs": [],
   "source": [
    "dfdict=pd.DataFrame(list_of_dict)"
   ]
  },
  {
   "cell_type": "code",
   "execution_count": 9,
   "id": "772252f2",
   "metadata": {},
   "outputs": [
    {
     "data": {
      "text/html": [
       "<div>\n",
       "<style scoped>\n",
       "    .dataframe tbody tr th:only-of-type {\n",
       "        vertical-align: middle;\n",
       "    }\n",
       "\n",
       "    .dataframe tbody tr th {\n",
       "        vertical-align: top;\n",
       "    }\n",
       "\n",
       "    .dataframe thead th {\n",
       "        text-align: right;\n",
       "    }\n",
       "</style>\n",
       "<table border=\"1\" class=\"dataframe\">\n",
       "  <thead>\n",
       "    <tr style=\"text-align: right;\">\n",
       "      <th></th>\n",
       "      <th>Name</th>\n",
       "      <th>Age</th>\n",
       "    </tr>\n",
       "  </thead>\n",
       "  <tbody>\n",
       "    <tr>\n",
       "      <th>0</th>\n",
       "      <td>arju</td>\n",
       "      <td>24</td>\n",
       "    </tr>\n",
       "    <tr>\n",
       "      <th>1</th>\n",
       "      <td>pooja</td>\n",
       "      <td>27</td>\n",
       "    </tr>\n",
       "    <tr>\n",
       "      <th>2</th>\n",
       "      <td>saleem</td>\n",
       "      <td>25</td>\n",
       "    </tr>\n",
       "    <tr>\n",
       "      <th>3</th>\n",
       "      <td>sneha</td>\n",
       "      <td>25</td>\n",
       "    </tr>\n",
       "    <tr>\n",
       "      <th>4</th>\n",
       "      <td>rajeev</td>\n",
       "      <td>23</td>\n",
       "    </tr>\n",
       "  </tbody>\n",
       "</table>\n",
       "</div>"
      ],
      "text/plain": [
       "     Name  Age\n",
       "0    arju   24\n",
       "1   pooja   27\n",
       "2  saleem   25\n",
       "3   sneha   25\n",
       "4  rajeev   23"
      ]
     },
     "execution_count": 9,
     "metadata": {},
     "output_type": "execute_result"
    }
   ],
   "source": [
    "dfdict.head()"
   ]
  },
  {
   "cell_type": "markdown",
   "id": "56c82305",
   "metadata": {},
   "source": [
    "### TASK"
   ]
  },
  {
   "cell_type": "code",
   "execution_count": 10,
   "id": "045f89e8",
   "metadata": {},
   "outputs": [],
   "source": [
    "Name=['RITA','ARUN','SITA','VARUN','RAM','RADHA','MOHAN','DEVI','NIDHI']\n",
    "Age=[23,29,14,21,32,23,51,20,29]\n",
    "Dob=['20/12/1997','13/08/1998','15/08/1999','19/08/1998','15/12/1996','14/10/1996','20/8/1992','15/06/1999','17/06/2000']\n",
    "Gender=['f','m','f','m','m','f','m','f','f']"
   ]
  },
  {
   "cell_type": "code",
   "execution_count": 11,
   "id": "8e5fc634",
   "metadata": {},
   "outputs": [],
   "source": [
    "df1=pd.DataFrame(list(zip(Name,Age,Dob,Gender)),columns=['name','age','dob','gender'])"
   ]
  },
  {
   "cell_type": "code",
   "execution_count": 12,
   "id": "ede01c95",
   "metadata": {},
   "outputs": [
    {
     "data": {
      "text/html": [
       "<div>\n",
       "<style scoped>\n",
       "    .dataframe tbody tr th:only-of-type {\n",
       "        vertical-align: middle;\n",
       "    }\n",
       "\n",
       "    .dataframe tbody tr th {\n",
       "        vertical-align: top;\n",
       "    }\n",
       "\n",
       "    .dataframe thead th {\n",
       "        text-align: right;\n",
       "    }\n",
       "</style>\n",
       "<table border=\"1\" class=\"dataframe\">\n",
       "  <thead>\n",
       "    <tr style=\"text-align: right;\">\n",
       "      <th></th>\n",
       "      <th>name</th>\n",
       "      <th>age</th>\n",
       "      <th>dob</th>\n",
       "      <th>gender</th>\n",
       "    </tr>\n",
       "  </thead>\n",
       "  <tbody>\n",
       "    <tr>\n",
       "      <th>0</th>\n",
       "      <td>RITA</td>\n",
       "      <td>23</td>\n",
       "      <td>20/12/1997</td>\n",
       "      <td>f</td>\n",
       "    </tr>\n",
       "    <tr>\n",
       "      <th>1</th>\n",
       "      <td>ARUN</td>\n",
       "      <td>29</td>\n",
       "      <td>13/08/1998</td>\n",
       "      <td>m</td>\n",
       "    </tr>\n",
       "    <tr>\n",
       "      <th>2</th>\n",
       "      <td>SITA</td>\n",
       "      <td>14</td>\n",
       "      <td>15/08/1999</td>\n",
       "      <td>f</td>\n",
       "    </tr>\n",
       "    <tr>\n",
       "      <th>3</th>\n",
       "      <td>VARUN</td>\n",
       "      <td>21</td>\n",
       "      <td>19/08/1998</td>\n",
       "      <td>m</td>\n",
       "    </tr>\n",
       "    <tr>\n",
       "      <th>4</th>\n",
       "      <td>RAM</td>\n",
       "      <td>32</td>\n",
       "      <td>15/12/1996</td>\n",
       "      <td>m</td>\n",
       "    </tr>\n",
       "    <tr>\n",
       "      <th>5</th>\n",
       "      <td>RADHA</td>\n",
       "      <td>23</td>\n",
       "      <td>14/10/1996</td>\n",
       "      <td>f</td>\n",
       "    </tr>\n",
       "    <tr>\n",
       "      <th>6</th>\n",
       "      <td>MOHAN</td>\n",
       "      <td>51</td>\n",
       "      <td>20/8/1992</td>\n",
       "      <td>m</td>\n",
       "    </tr>\n",
       "    <tr>\n",
       "      <th>7</th>\n",
       "      <td>DEVI</td>\n",
       "      <td>20</td>\n",
       "      <td>15/06/1999</td>\n",
       "      <td>f</td>\n",
       "    </tr>\n",
       "    <tr>\n",
       "      <th>8</th>\n",
       "      <td>NIDHI</td>\n",
       "      <td>29</td>\n",
       "      <td>17/06/2000</td>\n",
       "      <td>f</td>\n",
       "    </tr>\n",
       "  </tbody>\n",
       "</table>\n",
       "</div>"
      ],
      "text/plain": [
       "    name  age         dob gender\n",
       "0   RITA   23  20/12/1997      f\n",
       "1   ARUN   29  13/08/1998      m\n",
       "2   SITA   14  15/08/1999      f\n",
       "3  VARUN   21  19/08/1998      m\n",
       "4    RAM   32  15/12/1996      m\n",
       "5  RADHA   23  14/10/1996      f\n",
       "6  MOHAN   51   20/8/1992      m\n",
       "7   DEVI   20  15/06/1999      f\n",
       "8  NIDHI   29  17/06/2000      f"
      ]
     },
     "execution_count": 12,
     "metadata": {},
     "output_type": "execute_result"
    }
   ],
   "source": [
    "df1"
   ]
  },
  {
   "cell_type": "code",
   "execution_count": 13,
   "id": "a1634338",
   "metadata": {},
   "outputs": [],
   "source": [
    "list_of_dict1=[\n",
    "    \n",
    "        {'Name':'RITA','Age':24,'dob':'20/12/1997','gender':'f'},\n",
    "       {'Name':'ARUN','Age':27,'dob':\"13/08/1998\",'gender':'m'},\n",
    "       {'Name':'SITA','Age':25,'dob':'15/08/1999','gender':'f'},\n",
    "       {'Name':'VARUN','Age':25,'dob':'19/08/1998','gender':'m'},\n",
    "       {'Name':'RAM','Age':23,'dob':'15/12/1996','gender':'m'},\n",
    "       {'Name':'RADHA','Age':24,'dob':'14/10/1996','gender':'f'},\n",
    "       {'Name':'MOHAN','Age':27,'dob':'20/8/1992','gender':'m'},\n",
    "       {'Name':'DEVI','Age':25,'dob':'15/06/1999','gender':'f'},\n",
    "       {'Name':'NIDHI','Age':25,'dob':'17/06/2000','gender':'f'}\n",
    "       \n",
    "        \n",
    "]"
   ]
  },
  {
   "cell_type": "code",
   "execution_count": 15,
   "id": "96d6faa7",
   "metadata": {},
   "outputs": [],
   "source": [
    "df2=pd.DataFrame(list_of_dict1)"
   ]
  },
  {
   "cell_type": "code",
   "execution_count": 16,
   "id": "5496350d",
   "metadata": {},
   "outputs": [
    {
     "data": {
      "text/html": [
       "<div>\n",
       "<style scoped>\n",
       "    .dataframe tbody tr th:only-of-type {\n",
       "        vertical-align: middle;\n",
       "    }\n",
       "\n",
       "    .dataframe tbody tr th {\n",
       "        vertical-align: top;\n",
       "    }\n",
       "\n",
       "    .dataframe thead th {\n",
       "        text-align: right;\n",
       "    }\n",
       "</style>\n",
       "<table border=\"1\" class=\"dataframe\">\n",
       "  <thead>\n",
       "    <tr style=\"text-align: right;\">\n",
       "      <th></th>\n",
       "      <th>Name</th>\n",
       "      <th>Age</th>\n",
       "      <th>dob</th>\n",
       "      <th>gender</th>\n",
       "    </tr>\n",
       "  </thead>\n",
       "  <tbody>\n",
       "    <tr>\n",
       "      <th>0</th>\n",
       "      <td>RITA</td>\n",
       "      <td>24</td>\n",
       "      <td>20/12/1997</td>\n",
       "      <td>f</td>\n",
       "    </tr>\n",
       "    <tr>\n",
       "      <th>1</th>\n",
       "      <td>ARUN</td>\n",
       "      <td>27</td>\n",
       "      <td>13/08/1998</td>\n",
       "      <td>m</td>\n",
       "    </tr>\n",
       "    <tr>\n",
       "      <th>2</th>\n",
       "      <td>SITA</td>\n",
       "      <td>25</td>\n",
       "      <td>15/08/1999</td>\n",
       "      <td>f</td>\n",
       "    </tr>\n",
       "    <tr>\n",
       "      <th>3</th>\n",
       "      <td>VARUN</td>\n",
       "      <td>25</td>\n",
       "      <td>19/08/1998</td>\n",
       "      <td>m</td>\n",
       "    </tr>\n",
       "    <tr>\n",
       "      <th>4</th>\n",
       "      <td>RAM</td>\n",
       "      <td>23</td>\n",
       "      <td>15/12/1996</td>\n",
       "      <td>m</td>\n",
       "    </tr>\n",
       "    <tr>\n",
       "      <th>5</th>\n",
       "      <td>RADHA</td>\n",
       "      <td>24</td>\n",
       "      <td>14/10/1996</td>\n",
       "      <td>f</td>\n",
       "    </tr>\n",
       "    <tr>\n",
       "      <th>6</th>\n",
       "      <td>MOHAN</td>\n",
       "      <td>27</td>\n",
       "      <td>20/8/1992</td>\n",
       "      <td>m</td>\n",
       "    </tr>\n",
       "    <tr>\n",
       "      <th>7</th>\n",
       "      <td>DEVI</td>\n",
       "      <td>25</td>\n",
       "      <td>15/06/1999</td>\n",
       "      <td>f</td>\n",
       "    </tr>\n",
       "    <tr>\n",
       "      <th>8</th>\n",
       "      <td>NIDHI</td>\n",
       "      <td>25</td>\n",
       "      <td>17/06/2000</td>\n",
       "      <td>f</td>\n",
       "    </tr>\n",
       "  </tbody>\n",
       "</table>\n",
       "</div>"
      ],
      "text/plain": [
       "    Name  Age         dob gender\n",
       "0   RITA   24  20/12/1997      f\n",
       "1   ARUN   27  13/08/1998      m\n",
       "2   SITA   25  15/08/1999      f\n",
       "3  VARUN   25  19/08/1998      m\n",
       "4    RAM   23  15/12/1996      m\n",
       "5  RADHA   24  14/10/1996      f\n",
       "6  MOHAN   27   20/8/1992      m\n",
       "7   DEVI   25  15/06/1999      f\n",
       "8  NIDHI   25  17/06/2000      f"
      ]
     },
     "execution_count": 16,
     "metadata": {},
     "output_type": "execute_result"
    }
   ],
   "source": [
    "df2"
   ]
  },
  {
   "cell_type": "code",
   "execution_count": null,
   "id": "4fb5471f",
   "metadata": {},
   "outputs": [],
   "source": []
  }
 ],
 "metadata": {
  "kernelspec": {
   "display_name": "Python 3 (ipykernel)",
   "language": "python",
   "name": "python3"
  },
  "language_info": {
   "codemirror_mode": {
    "name": "ipython",
    "version": 3
   },
   "file_extension": ".py",
   "mimetype": "text/x-python",
   "name": "python",
   "nbconvert_exporter": "python",
   "pygments_lexer": "ipython3",
   "version": "3.9.13"
  }
 },
 "nbformat": 4,
 "nbformat_minor": 5
}
